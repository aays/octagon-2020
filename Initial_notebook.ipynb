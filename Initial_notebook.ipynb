{
 "cells": [
  {
   "cell_type": "code",
   "execution_count": 152,
   "metadata": {},
   "outputs": [],
   "source": [
    "import pandas as pd \n",
    "import matplotlib.pyplot as plt\n",
    "import seaborn as sns\n",
    "import numpy as np\n",
    "import warnings\n",
    "warnings.filterwarnings(action=\"ignore\", message=\"^internal gelsd\")\n",
    "warnings.simplefilter(action='ignore', category=FutureWarning)"
   ]
  },
  {
   "cell_type": "code",
   "execution_count": 9,
   "metadata": {},
   "outputs": [
    {
     "name": "stdout",
     "output_type": "stream",
     "text": [
      "<bound method NDFrame.head of        Prov Con_ACT  Sex    Age   Measure   M0   M1   M2   M3   M4  ...  M30  \\\n",
      "0       NaN     NaN  NaN    NaN       NaN  NaN  NaN  NaN  NaN  NaN  ...  NaN   \n",
      "1        AB     ALL  ALL  18-19        Tx  2.0  2.0  2.0  2.0  2.0  ...  NaN   \n",
      "2        AB     ALL  ALL  18-19    events  NaN  NaN  NaN  NaN  NaN  ...  NaN   \n",
      "3        AB     ALL  ALL  18-19  censored  NaN  NaN  NaN  NaN  NaN  ...  NaN   \n",
      "4        AB     ALL  ALL  25-29        Tx  3.0  3.0  3.0  3.0  2.0  ...  0.0   \n",
      "...     ...     ...  ...    ...       ...  ...  ...  ...  ...  ...  ...  ...   \n",
      "2375  UNKWN     Yes    F  50-54    events  NaN  NaN  NaN  NaN  NaN  ...  NaN   \n",
      "2376  UNKWN     Yes    F  50-54  censored  NaN  NaN  NaN  1.0  1.0  ...  NaN   \n",
      "2377  UNKWN     Yes    F    ALL        Tx  2.0  2.0  2.0  1.0  0.0  ...  NaN   \n",
      "2378  UNKWN     Yes    F    ALL    events  NaN  NaN  NaN  NaN  NaN  ...  NaN   \n",
      "2379  UNKWN     Yes    F    ALL  censored  NaN  NaN  NaN  1.0  1.0  ...  NaN   \n",
      "\n",
      "      M31  M32  M33  M34  M35  M36  M37  M38  M39  \n",
      "0     NaN  NaN  NaN  NaN  NaN  NaN  NaN  NaN  NaN  \n",
      "1     NaN  NaN  NaN  NaN  NaN  NaN  NaN  NaN  NaN  \n",
      "2     NaN  NaN  NaN  NaN  NaN  NaN  NaN  NaN  NaN  \n",
      "3     NaN  NaN  NaN  NaN  NaN  NaN  NaN  NaN  NaN  \n",
      "4     NaN  NaN  NaN  NaN  NaN  NaN  NaN  NaN  NaN  \n",
      "...   ...  ...  ...  ...  ...  ...  ...  ...  ...  \n",
      "2375  NaN  NaN  NaN  NaN  NaN  NaN  NaN  NaN  NaN  \n",
      "2376  NaN  NaN  NaN  NaN  NaN  NaN  NaN  NaN  NaN  \n",
      "2377  NaN  NaN  NaN  NaN  NaN  NaN  NaN  NaN  NaN  \n",
      "2378  NaN  NaN  NaN  NaN  NaN  NaN  NaN  NaN  NaN  \n",
      "2379  NaN  NaN  NaN  NaN  NaN  NaN  NaN  NaN  NaN  \n",
      "\n",
      "[2380 rows x 45 columns]>\n",
      "Index(['Prov', 'Con_ACT', 'Sex', 'Age', 'Measure', 'M0', 'M1', 'M2', 'M3',\n",
      "       'M4', 'M5', 'M6', 'M7', 'M8', 'M9', 'M10', 'M11', 'M12', 'M13', 'M14',\n",
      "       'M15', 'M16', 'M17', 'M18', 'M19', 'M20', 'M21', 'M22', 'M23', 'M24',\n",
      "       'M25', 'M26', 'M27', 'M28', 'M29', 'M30', 'M31', 'M32', 'M33', 'M34',\n",
      "       'M35', 'M36', 'M37', 'M38', 'M39'],\n",
      "      dtype='object')\n"
     ]
    }
   ],
   "source": [
    "df = pd.read_csv(\"./dataset.csv\")\n",
    "print(df.head)\n",
    "print(df.columns)"
   ]
  },
  {
   "cell_type": "markdown",
   "metadata": {},
   "source": [
    "## finding unique values in first 5 columns"
   ]
  },
  {
   "cell_type": "code",
   "execution_count": 13,
   "metadata": {},
   "outputs": [
    {
     "name": "stdout",
     "output_type": "stream",
     "text": [
      "[nan 'AB' 'ALL' 'Atlantic' 'BC' 'ON' 'Prairies' 'QC' 'UNKWN']\n",
      "[nan 'ALL' 'No' 'Null' 'Yes']\n",
      "[nan 'ALL' 'F' 'M']\n",
      "[nan '18-19' '25-29' '30-34' '35-39' '40-44' '45-49' '50-54' '55-59'\n",
      " '60-64' '65+' 'ALL' '20-24']\n",
      "[nan 'Tx' 'events' 'censored']\n"
     ]
    }
   ],
   "source": [
    "print(df.Prov.unique()) #[nan 'AB' 'ALL' 'Atlantic' 'BC' 'ON' 'Prairies' 'QC' 'UNKWN']\n",
    "print(df.Con_ACT.unique()) #[nan 'ALL' 'No' 'Null' 'Yes']\n",
    "print(df.Sex.unique()) #[nan 'ALL' 'F' 'M']\n",
    "print(df.Age.unique()) #[nan '18-19' '25-29' '30-34' '35-39' '40-44' '45-49' '50-54' '55-59' '60-64' '65+' 'ALL' '20-24']\n",
    "print(df.Measure.unique()) #[nan 'Tx' 'events' 'censored']"
   ]
  },
  {
   "cell_type": "markdown",
   "metadata": {},
   "source": [
    "### removing nan in first five columns"
   ]
  },
  {
   "cell_type": "code",
   "execution_count": 16,
   "metadata": {
    "collapsed": true
   },
   "outputs": [
    {
     "data": {
      "text/plain": [
       "Prov          1\n",
       "Con_ACT       1\n",
       "Sex           1\n",
       "Age           1\n",
       "Measure       1\n",
       "M0         1587\n",
       "M1          952\n",
       "M2         1188\n",
       "M3         1154\n",
       "M4         1092\n",
       "M5         1227\n",
       "M6         1290\n",
       "M7         1281\n",
       "M8         1300\n",
       "M9         1265\n",
       "M10        1305\n",
       "M11        1373\n",
       "M12        1408\n",
       "M13        1471\n",
       "M14        1474\n",
       "M15        1585\n",
       "M16        1610\n",
       "M17        1619\n",
       "M18        1615\n",
       "M19        1606\n",
       "M20        1676\n",
       "M21        1710\n",
       "M22        1694\n",
       "M23        1719\n",
       "M24        1761\n",
       "M25        1794\n",
       "M26        1827\n",
       "M27        1842\n",
       "M28        1837\n",
       "M29        1864\n",
       "M30        1968\n",
       "M31        2010\n",
       "M32        2045\n",
       "M33        2046\n",
       "M34        2089\n",
       "M35        2061\n",
       "M36        2099\n",
       "M37        2137\n",
       "M38        2128\n",
       "M39        2226\n",
       "dtype: int64"
      ]
     },
     "execution_count": 16,
     "metadata": {},
     "output_type": "execute_result"
    }
   ],
   "source": [
    "null_columns = df.columns[df.isnull().any()]\n",
    "df[null_columns].isnull().sum()\n"
   ]
  },
  {
   "cell_type": "code",
   "execution_count": 18,
   "metadata": {},
   "outputs": [
    {
     "name": "stdout",
     "output_type": "stream",
     "text": [
      "  Prov Con_ACT  Sex  Age Measure  M0  M1  M2  M3  M4  ...  M30  M31  M32  M33  \\\n",
      "0  NaN     NaN  NaN  NaN     NaN NaN NaN NaN NaN NaN  ...  NaN  NaN  NaN  NaN   \n",
      "\n",
      "   M34  M35  M36  M37  M38  M39  \n",
      "0  NaN  NaN  NaN  NaN  NaN  NaN  \n",
      "\n",
      "[1 rows x 45 columns]\n"
     ]
    }
   ],
   "source": [
    "print(df[df['Age'].isnull()][null_columns])\n",
    "df = df[~df['Age'].isnull()] ## removed the other NaN instances in first 5 columns "
   ]
  },
  {
   "cell_type": "markdown",
   "metadata": {},
   "source": [
    "### validating dataset to make sure \"ALL\" sums up to the other values in each column"
   ]
  },
  {
   "cell_type": "code",
   "execution_count": 121,
   "metadata": {},
   "outputs": [],
   "source": [
    "for i in (\"Age\", \"Prov\", \"Sex\", \"Con_ACT\"):\n",
    "    for j in ([(\"M\" + str(i)) for i in range(0,40)]):\n",
    "        table = pd.pivot_table(df, values=j, index=i, aggfunc='sum').reset_index()\n",
    "        not_all_df = (table.loc[~table[i].isin(['ALL'])])\n",
    "#         print(not_all_df[j].sum())\n",
    "        all_df  = table.loc[table[i].isin(['ALL'])]\n",
    "#         print(all_df[j].sum())\n",
    "        if (not_all_df[j].sum()) - (all_df[j].sum()) != 0:\n",
    "            print(False)"
   ]
  },
  {
   "cell_type": "markdown",
   "metadata": {},
   "source": [
    "### remove anything that has ALL in it then start playing with the data\n"
   ]
  },
  {
   "cell_type": "code",
   "execution_count": 132,
   "metadata": {},
   "outputs": [],
   "source": [
    "## look at \"ALL\" for first five columns (Prov, Age, Sex, Con_ACT)"
   ]
  },
  {
   "cell_type": "code",
   "execution_count": 131,
   "metadata": {},
   "outputs": [],
   "source": [
    "df = pd.read_csv(\"./dataset.csv\")\n",
    "df = df[(df != 'ALL').all(axis=1)]\n",
    "df.to_csv(\"dataset_without_ALL_values.csv\")\n",
    "\n",
    "df = pd.read_csv(\"./dataset.csv\")\n",
    "df = df[(df == 'ALL').any(axis=1)]\n",
    "df.to_csv(\"dataset_with_ALL_values.csv\")"
   ]
  },
  {
   "attachments": {},
   "cell_type": "markdown",
   "metadata": {},
   "source": [
    "# 1. How many patients stay on treatment for at least 9 months? \n",
    "### Answer: In total, 704 patients reach month 9 of treatment"
   ]
  },
  {
   "cell_type": "code",
   "execution_count": 164,
   "metadata": {},
   "outputs": [
    {
     "data": {
      "text/html": [
       "<div>\n",
       "<style scoped>\n",
       "    .dataframe tbody tr th:only-of-type {\n",
       "        vertical-align: middle;\n",
       "    }\n",
       "\n",
       "    .dataframe tbody tr th {\n",
       "        vertical-align: top;\n",
       "    }\n",
       "\n",
       "    .dataframe thead th {\n",
       "        text-align: right;\n",
       "    }\n",
       "</style>\n",
       "<table border=\"1\" class=\"dataframe\">\n",
       "  <thead>\n",
       "    <tr style=\"text-align: right;\">\n",
       "      <th></th>\n",
       "      <th>M9</th>\n",
       "    </tr>\n",
       "  </thead>\n",
       "  <tbody>\n",
       "    <tr>\n",
       "      <th>343</th>\n",
       "      <td>704.0</td>\n",
       "    </tr>\n",
       "  </tbody>\n",
       "</table>\n",
       "</div>"
      ],
      "text/plain": [
       "        M9\n",
       "343  704.0"
      ]
     },
     "execution_count": 164,
     "metadata": {},
     "output_type": "execute_result"
    }
   ],
   "source": [
    "df = pd.read_csv(\"./dataset.csv\")\n",
    "df = df[(df == 'ALL').any(axis=1)]\n",
    "\n",
    "df.loc[(df['Prov']==\"ALL\") & (df['Con_ACT']==\"ALL\") & (df['Sex']==\"ALL\") & (df['Age']==\"ALL\") & (df['Measure']==\"Tx\"),['M9']]\n",
    "\n",
    "##total: 704\n"
   ]
  },
  {
   "cell_type": "markdown",
   "metadata": {},
   "source": [
    "## analyzing what makes up the 704 patients:"
   ]
  },
  {
   "cell_type": "code",
   "execution_count": 166,
   "metadata": {},
   "outputs": [
    {
     "name": "stdout",
     "output_type": "stream",
     "text": [
      "      Age     M9\n",
      "0   18-19    3.0\n",
      "1   20-24    6.0\n",
      "2   25-29    9.0\n",
      "3   30-34   20.0\n",
      "4   35-39   47.0\n",
      "5   40-44   68.0\n",
      "6   45-49   90.0\n",
      "7   50-54  125.0\n",
      "8   55-59  152.0\n",
      "9   60-64  106.0\n",
      "10    65+   78.0\n"
     ]
    },
    {
     "data": {
      "image/png": "[encoded data removed]",
      "text/plain": [
       "<Figure size 432x288 with 1 Axes>"
      ]
     },
     "metadata": {
      "needs_background": "light"
     },
     "output_type": "display_data"
    }
   ],
   "source": [
    "df = pd.read_csv(\"./dataset.csv\")\n",
    "df = df[(df != 'ALL').all(axis=1)]\n",
    "df = df[df['Measure'] == \"Tx\"]\n",
    "age_table = pd.pivot_table(df, values='M9', index=\"Age\", aggfunc='sum').reset_index()\n",
    "print(age_table)\n",
    "fig, ax = plt.subplots()\n",
    "age_table.plot.bar(x='Age', ax=ax) ##peak age group is 55-59 years old\n",
    "fig.savefig('./plots/Q1/9months_by_age.png')\n"
   ]
  },
  {
   "cell_type": "code",
   "execution_count": 167,
   "metadata": {},
   "outputs": [
    {
     "name": "stdout",
     "output_type": "stream",
     "text": [
      "  Sex     M9\n",
      "0   F  376.0\n",
      "1   M  328.0\n"
     ]
    },
    {
     "data": {
      "image/png": "[encoded data removed]",
      "text/plain": [
       "<Figure size 432x288 with 1 Axes>"
      ]
     },
     "metadata": {
      "needs_background": "light"
     },
     "output_type": "display_data"
    }
   ],
   "source": [
    "sex_table = pd.pivot_table(df, values='M9', index=\"Sex\", aggfunc='sum').reset_index()\n",
    "print(sex_table)\n",
    "fig, ax = plt.subplots()\n",
    "sex_table.plot.bar(x='Sex', ax=ax) ##376 female vs 328 male\n",
    "fig.savefig('./plots/Q1/9months_by_sex.png')\n"
   ]
  },
  {
   "cell_type": "code",
   "execution_count": 168,
   "metadata": {},
   "outputs": [
    {
     "name": "stdout",
     "output_type": "stream",
     "text": [
      "       Prov     M9\n",
      "0        AB   72.0\n",
      "1  Atlantic   40.0\n",
      "2        BC   67.0\n",
      "3        ON  340.0\n",
      "4  Prairies   16.0\n",
      "5        QC  168.0\n",
      "6     UNKWN    1.0\n"
     ]
    },
    {
     "data": {
      "image/png": "[encoded data removed]",
      "text/plain": [
       "<Figure size 432x288 with 1 Axes>"
      ]
     },
     "metadata": {
      "needs_background": "light"
     },
     "output_type": "display_data"
    }
   ],
   "source": [
    "prov_table = pd.pivot_table(df, values='M9', index=\"Prov\", aggfunc='sum').reset_index()\n",
    "print(prov_table)\n",
    "fig, ax = plt.subplots()\n",
    "prov_table.plot.bar(x='Prov', ax=ax) \n",
    "fig.savefig('./plots/Q1/9months_by_prov.png') ## peak at ontario\n"
   ]
  },
  {
   "cell_type": "code",
   "execution_count": 169,
   "metadata": {},
   "outputs": [
    {
     "name": "stdout",
     "output_type": "stream",
     "text": [
      "  Con_ACT     M9\n",
      "0      No  517.0\n",
      "1    Null   82.0\n",
      "2     Yes  105.0\n"
     ]
    },
    {
     "data": {
      "image/png": "[encoded data removed]",
      "text/plain": [
       "<Figure size 432x288 with 1 Axes>"
      ]
     },
     "metadata": {
      "needs_background": "light"
     },
     "output_type": "display_data"
    }
   ],
   "source": [
    "Con_ACT_table = pd.pivot_table(df, values='M9', index=\"Con_ACT\", aggfunc='sum').reset_index()\n",
    "print(Con_ACT_table)\n",
    "fig, ax = plt.subplots()\n",
    "Con_ACT_table.plot.bar(x='Con_ACT', ax=ax) \n",
    "fig.savefig('./plots/Q1/9months_by_con_ACT.png') ##peak no, does not use another anti-cancer therapy concurrently"
   ]
  },
  {
   "cell_type": "markdown",
   "metadata": {},
   "source": [
    "# Summary of results for Q1:\n",
    "- 704 patients receive treatment for at least 9 months. \n",
    "- The most common age group to receive at least 9 months of treatment is 55-59\n",
    "- no significant difference between male and female\n",
    "- most common in ontario, and for people that did not use another anti-cancer therapy concurrently\n",
    "\n",
    "\n",
    "Note: If you check each of the above outputs in the past 4 cells, the total adds up to 704 (which is what we got for \"ALL\")"
   ]
  }
 ],
 "metadata": {
  "kernelspec": {
   "display_name": "Python 3",
   "language": "python",
   "name": "python3"
  },
  "language_info": {
   "codemirror_mode": {
    "name": "ipython",
    "version": 3
   },
   "file_extension": ".py",
   "mimetype": "text/x-python",
   "name": "python",
   "nbconvert_exporter": "python",
   "pygments_lexer": "ipython3",
   "version": "3.7.6"
  }
 },
 "nbformat": 4,
 "nbformat_minor": 4
}
