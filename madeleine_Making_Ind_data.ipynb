{
 "cells": [
  {
   "cell_type": "markdown",
   "metadata": {},
   "source": [
    "# ** Making the df with each ind as a row** "
   ]
  },
  {
   "cell_type": "markdown",
   "metadata": {},
   "source": [
    "### ** 1) Copy the informative portion of the provided data and pasted into a csv file \"Book1.csv** "
   ]
  },
  {
   "cell_type": "markdown",
   "metadata": {},
   "source": [
    "###  ** 2) removed the \"ALL\" rows**"
   ]
  },
  {
   "cell_type": "code",
   "execution_count": null,
   "metadata": {},
   "outputs": [],
   "source": [
    "!grep -v \"ALL\" Book1.csv > Data_noAll.csv"
   ]
  },
  {
   "cell_type": "markdown",
   "metadata": {},
   "source": [
    "### ** 3) created a dictionary where each entry is an individual ** "
   ]
  },
  {
   "cell_type": "code",
   "execution_count": 1,
   "metadata": {},
   "outputs": [],
   "source": [
    "import pandas as pd"
   ]
  },
  {
   "cell_type": "code",
   "execution_count": 4,
   "metadata": {},
   "outputs": [],
   "source": [
    "raw_lines = open(\"Data_noAll.csv\").readlines()"
   ]
  },
  {
   "cell_type": "code",
   "execution_count": 8,
   "metadata": {},
   "outputs": [
    {
     "data": {
      "text/plain": [
       "727"
      ]
     },
     "execution_count": 8,
     "metadata": {},
     "output_type": "execute_result"
    }
   ],
   "source": [
    "len(raw_lines)"
   ]
  },
  {
   "cell_type": "code",
   "execution_count": 157,
   "metadata": {},
   "outputs": [],
   "source": [
    "dict_ind_rows = {} # dictionary to fill \n",
    "row_n = 0   #total number of rows \n",
    "total_people = 0 # total number of patients in study \n",
    "list_total_sum_off = [] #a collection of mess ups: caution measure \n",
    "\n",
    "for i in range(1, len(raw_lines), 3): #iterate through the lines in 3s as 3 rows belong to each factor set(tx, event, censor)\n",
    "    \n",
    "    prov = raw_lines[i].split(\",\")[0]\n",
    "    con_act = raw_lines[i].split(\",\")[1]\n",
    "    sex = raw_lines[i].split(\",\")[2]\n",
    "    age = raw_lines[i].split(\",\")[3]\n",
    "    \n",
    "    #note that everyone in a given factor set group either \n",
    "    #1) dropped from event, \n",
    "    #2) dropped from census or \n",
    "    #3) stayed the whole time \n",
    "    #so only need to look at the values in the census and event rows to see whats happening \n",
    "    \n",
    "    tx_list = raw_lines[i].split(\",\")[5:-1]\n",
    "    events_list = raw_lines[i+1].split(\",\")[5:-1] # getting the last 39 elements of the evtns row, and excluding the \"\\n\" at the end\n",
    "    censor_list = raw_lines[i+2].split(\",\")[5:-1] # getting the last 39 elements of the censor row, and excluding the \"\\n\" at the end \n",
    "    n_censor = 0 #nmber of people in this factor set that dropped from censor\n",
    "    n_event = 0 #nmber of people in this factor set that dropped from event\n",
    "    \n",
    "    #1) adding people to dict who dropped from event (going through the event list, blanks and numbers)\n",
    "    for index, element in enumerate(events_list): \n",
    "        try: \n",
    "            int(element)\n",
    "        except: \n",
    "            None\n",
    "        else: \n",
    "            reason_for_drop = \"event\"\n",
    "            month_dropped = index # the index of the list is equivalent to how many months they stay in the program \n",
    "            for j in range(0, int(element)):\n",
    "                dict_ind_rows[row_n] = [prov, con_act, sex, age, reason_for_drop, month_dropped]\n",
    "                n_event += 1\n",
    "                row_n += 1\n",
    "    #2) adding people to dict who dropped from censor (going through the censor list, blanks and numbers)        \n",
    "    for index, element in enumerate(censor_list): \n",
    "        try: \n",
    "            int(element)\n",
    "        except: \n",
    "            None\n",
    "        else: \n",
    "            reason_for_drop = \"censor\"\n",
    "            month_dropped = index # the index of the list is equivalent to how many months they stay in the program \n",
    "            for j in range(0, int(element)): \n",
    "                dict_ind_rows[row_n] = [prov, con_act, sex, age, reason_for_drop, month_dropped]\n",
    "                n_censor += 1\n",
    "                row_n += 1\n",
    "    \n",
    "    #3) adding those who lasted the whole duration (no event or censor value associated, this row has Tx values until the end: M39) \n",
    "    total_atEnd = tx_list[-1]\n",
    "    n_noDrop = 0\n",
    "    try: \n",
    "        int(total_atEnd)\n",
    "    except: \n",
    "        None\n",
    "    else: \n",
    "        reason_for_drop = \"NA\"\n",
    "        month_dropped = \"NA\"\n",
    "        n_noDrop = int(total_atEnd)\n",
    "        for k in range(0,n_noDrop): \n",
    "            dict_ind_rows[row_n] = [prov, con_act, sex, age, reason_for_drop, month_dropped]\n",
    "            row_n += 1\n",
    "    \n",
    "    #check to make sure the totals for this factor set group make sense \n",
    "    total_inGroup = int(raw_lines[i].split(\",\")[5]) #total number of people in this facotr set group \n",
    "    total_people += total_inGroup\n",
    "    if total_inGroup - n_noDrop != n_event + n_censor: \n",
    "        print(\"oh no error\")\n",
    "        list_total_sum_off.append([total_inGroup, [prov, con_act, sex, age,total_inGroup], tx_list, n_event, events_list, n_censor, censor_list])\n"
   ]
  },
  {
   "cell_type": "markdown",
   "metadata": {},
   "source": [
    "### ** 4) convert the dictionary to df and save as csv **"
   ]
  },
  {
   "cell_type": "code",
   "execution_count": 164,
   "metadata": {},
   "outputs": [],
   "source": [
    "ind_df = pd.DataFrame.from_dict(dict_ind_rows, orient = \"index\")"
   ]
  },
  {
   "cell_type": "code",
   "execution_count": 165,
   "metadata": {},
   "outputs": [
    {
     "data": {
      "text/html": [
       "<div>\n",
       "<table border=\"1\" class=\"dataframe\">\n",
       "  <thead>\n",
       "    <tr style=\"text-align: right;\">\n",
       "      <th></th>\n",
       "      <th>0</th>\n",
       "      <th>1</th>\n",
       "      <th>2</th>\n",
       "      <th>3</th>\n",
       "      <th>4</th>\n",
       "      <th>5</th>\n",
       "    </tr>\n",
       "  </thead>\n",
       "  <tbody>\n",
       "    <tr>\n",
       "      <th>0</th>\n",
       "      <td>AB</td>\n",
       "      <td>No</td>\n",
       "      <td>F</td>\n",
       "      <td>18-19</td>\n",
       "      <td>event</td>\n",
       "      <td>12</td>\n",
       "    </tr>\n",
       "    <tr>\n",
       "      <th>1</th>\n",
       "      <td>AB</td>\n",
       "      <td>No</td>\n",
       "      <td>F</td>\n",
       "      <td>25-29</td>\n",
       "      <td>censor</td>\n",
       "      <td>29</td>\n",
       "    </tr>\n",
       "    <tr>\n",
       "      <th>2</th>\n",
       "      <td>AB</td>\n",
       "      <td>No</td>\n",
       "      <td>F</td>\n",
       "      <td>30-34</td>\n",
       "      <td>event</td>\n",
       "      <td>5</td>\n",
       "    </tr>\n",
       "    <tr>\n",
       "      <th>3</th>\n",
       "      <td>AB</td>\n",
       "      <td>No</td>\n",
       "      <td>F</td>\n",
       "      <td>30-34</td>\n",
       "      <td>censor</td>\n",
       "      <td>4</td>\n",
       "    </tr>\n",
       "    <tr>\n",
       "      <th>4</th>\n",
       "      <td>AB</td>\n",
       "      <td>No</td>\n",
       "      <td>F</td>\n",
       "      <td>35-39</td>\n",
       "      <td>event</td>\n",
       "      <td>1</td>\n",
       "    </tr>\n",
       "  </tbody>\n",
       "</table>\n",
       "</div>"
      ],
      "text/plain": [
       "    0   1  2      3       4   5\n",
       "0  AB  No  F  18-19   event  12\n",
       "1  AB  No  F  25-29  censor  29\n",
       "2  AB  No  F  30-34   event   5\n",
       "3  AB  No  F  30-34  censor   4\n",
       "4  AB  No  F  35-39   event   1"
      ]
     },
     "execution_count": 165,
     "metadata": {},
     "output_type": "execute_result"
    }
   ],
   "source": [
    "ind_df.head()"
   ]
  },
  {
   "cell_type": "code",
   "execution_count": 175,
   "metadata": {},
   "outputs": [],
   "source": [
    "ind_df = pd.DataFrame.from_dict(dict_ind_rows, orient = \"index\")\n",
    "ind_df.columns = [\"Prov\", \"Con_ACT\", \"Sex\", \"Age\", \"Reason_for_drop\", \"Month_lasted\"]\n"
   ]
  },
  {
   "cell_type": "code",
   "execution_count": 182,
   "metadata": {},
   "outputs": [
    {
     "name": "stdout",
     "output_type": "stream",
     "text": [
      "number of total patients 1441\n",
      "number of censored patients 820\n",
      "number of event patients 617\n"
     ]
    }
   ],
   "source": [
    "print(\"number of total patients\", len(ind_df))\n",
    "print(\"number of censored patients\", len(ind_df[ind_df.Reason_for_drop == \"censor\"]))\n",
    "print(\"number of event patients\", len(ind_df[ind_df.Reason_for_drop == \"event\"]))"
   ]
  },
  {
   "cell_type": "code",
   "execution_count": 179,
   "metadata": {},
   "outputs": [],
   "source": [
    "pd.DataFrame.to_csv(ind_df, \"Dataframe_with_ind_rows.csv\")"
   ]
  }
 ],
 "metadata": {
  "kernelspec": {
   "display_name": "Python 3",
   "language": "python",
   "name": "python3"
  },
  "language_info": {
   "codemirror_mode": {
    "name": "ipython",
    "version": 3
   },
   "file_extension": ".py",
   "mimetype": "text/x-python",
   "name": "python",
   "nbconvert_exporter": "python",
   "pygments_lexer": "ipython3",
   "version": "3.5.1"
  }
 },
 "nbformat": 4,
 "nbformat_minor": 2
}
